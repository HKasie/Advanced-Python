{
  "cells": [
    {
      "cell_type": "markdown",
      "metadata": {
        "id": "view-in-github",
        "colab_type": "text"
      },
      "source": [
        "<a href=\"https://colab.research.google.com/github/HKasie/Advanced-Python/blob/main/Debugging.ipynb\" target=\"_parent\"><img src=\"https://colab.research.google.com/assets/colab-badge.svg\" alt=\"Open In Colab\"/></a>"
      ]
    },
    {
      "cell_type": "markdown",
      "metadata": {
        "id": "gzGOl62wMAod"
      },
      "source": [
        "# Debugging"
      ]
    },
    {
      "cell_type": "markdown",
      "metadata": {
        "id": "8TTidyjsMAoh"
      },
      "source": [
        "## Learning Objectives\n",
        "- Learn how to interpret error messages thrown by Python.\n",
        "- Understand the most common bugs you might find.\n",
        "- Learn some debugging techniques.\n",
        "- Learn the most common errors in Python and their solutions.\n",
        "- Learn how to read errors in the console.\n",
        "- Learn how to use the debugger."
      ]
    },
    {
      "cell_type": "markdown",
      "metadata": {
        "id": "pmEnnxIhMAoi"
      },
      "source": [
        "## Introduction\n",
        "Understanding the errors raised by Python (or any programming language) is crucial for progress in programming. You can expend a considerable amount of time figuring out an error if your knowledge of errors and how to address them is inadequate.\n",
        "\n",
        "When handling errors, adopting the right mindset is crucial. Fortunately, Python offers a compiler that traces the error and provides information on the location of the issue to the user."
      ]
    },
    {
      "cell_type": "markdown",
      "metadata": {
        "id": "7-1bHWy8MAoi"
      },
      "source": [
        "## Python Standard Error"
      ]
    },
    {
      "cell_type": "markdown",
      "metadata": {
        "id": "S61TpchkMAoj"
      },
      "source": [
        "If Python encounters an error in code during compilation, it will print the error (or exception) directly to the console. The error message provides information on the conflicting line to the user.\n",
        "\n",
        "For example,"
      ]
    },
    {
      "cell_type": "code",
      "execution_count": null,
      "metadata": {
        "id": "g8r2JhgHMAoj",
        "outputId": "1ccb4743-937c-4dbe-cd0c-d8b211746e05"
      },
      "outputs": [
        {
          "name": "stdout",
          "output_type": "stream",
          "text": [
            "15\n"
          ]
        },
        {
          "ename": "TypeError",
          "evalue": "unsupported operand type(s) for +: 'int' and 'str'",
          "output_type": "error",
          "traceback": [
            "\u001b[1;31m---------------------------------------------------------------------------\u001b[0m",
            "\u001b[1;31mTypeError\u001b[0m                                 Traceback (most recent call last)",
            "\u001b[1;32m<ipython-input-2-5c3285622dcc>\u001b[0m in \u001b[0;36m<module>\u001b[1;34m\u001b[0m\n\u001b[0;32m      4\u001b[0m \u001b[1;33m\u001b[0m\u001b[0m\n\u001b[0;32m      5\u001b[0m \u001b[0mprint\u001b[0m\u001b[1;33m(\u001b[0m\u001b[0mx\u001b[0m \u001b[1;33m+\u001b[0m \u001b[0my\u001b[0m\u001b[1;33m)\u001b[0m\u001b[1;33m\u001b[0m\u001b[1;33m\u001b[0m\u001b[0m\n\u001b[1;32m----> 6\u001b[1;33m \u001b[0mprint\u001b[0m\u001b[1;33m(\u001b[0m\u001b[0mx\u001b[0m \u001b[1;33m+\u001b[0m \u001b[0mz\u001b[0m\u001b[1;33m)\u001b[0m\u001b[1;33m\u001b[0m\u001b[1;33m\u001b[0m\u001b[0m\n\u001b[0m\u001b[0;32m      7\u001b[0m \u001b[0mprint\u001b[0m\u001b[1;33m(\u001b[0m\u001b[0mx\u001b[0m \u001b[1;33m*\u001b[0m \u001b[0my\u001b[0m\u001b[1;33m)\u001b[0m\u001b[1;33m\u001b[0m\u001b[1;33m\u001b[0m\u001b[0m\n",
            "\u001b[1;31mTypeError\u001b[0m: unsupported operand type(s) for +: 'int' and 'str'"
          ]
        }
      ],
      "source": [
        "x = 5\n",
        "y = 10\n",
        "z = 'Dog'\n",
        "\n",
        "print(x + y)\n",
        "print(x + z)\n",
        "print(x * y)"
      ]
    },
    {
      "cell_type": "markdown",
      "metadata": {
        "id": "2mtImx1NMAok"
      },
      "source": [
        "By inspecting the message provided by Python, we establish that it\n",
        "\n",
        "- provides information about the error (`TypeError: unsupported operand type(s) for +: 'int' and 'str'`).\n",
        "- points to the line causing the error (`----> 6 print(x + z)`).\n",
        "\n",
        "Notice that line 5 was executed (it printed out x + y `15`), but line 7 was not (it did not print x * y `50`). This is because Python halts the code execution immediately it finds an error,."
      ]
    },
    {
      "cell_type": "markdown",
      "metadata": {
        "id": "vBbahQtOMAol"
      },
      "source": [
        "In most cases, this information provided will be enough to debug your code. In the above example, we know that the error is in line 6, which makes the issue easy to correct."
      ]
    },
    {
      "cell_type": "code",
      "execution_count": null,
      "metadata": {
        "id": "as6JeucRMAol",
        "outputId": "258daf34-d723-48d7-a19d-af274adada3a"
      },
      "outputs": [
        {
          "name": "stdout",
          "output_type": "stream",
          "text": [
            "15\n",
            "50\n"
          ]
        }
      ],
      "source": [
        "x = 5\n",
        "y = 10\n",
        "z = 'Dog'\n",
        "\n",
        "print(x + y)\n",
        "# print(x + z) # In this case, we cannot add an integer and a string; consequently, we remove the line.\n",
        "print(x * y)"
      ]
    },
    {
      "cell_type": "markdown",
      "metadata": {
        "id": "4ivlgpoLMAom"
      },
      "source": [
        "Alternatively, we can attempt to change the value of `z`."
      ]
    },
    {
      "cell_type": "code",
      "execution_count": null,
      "metadata": {
        "id": "P9RiAhu8MAom",
        "outputId": "a0e8a53d-9a22-40c7-bf50-d74427c4b5e6"
      },
      "outputs": [
        {
          "name": "stdout",
          "output_type": "stream",
          "text": [
            "15\n",
            "47\n",
            "50\n"
          ]
        }
      ],
      "source": [
        "x = 5\n",
        "y = 10\n",
        "z = 42\n",
        "\n",
        "print(x + y)\n",
        "print(x + z)\n",
        "print(x * y)"
      ]
    },
    {
      "cell_type": "markdown",
      "metadata": {
        "id": "TD2iEynqMAom"
      },
      "source": [
        "If the solution does not work, simply __Google__ it.\n",
        "<p align=center><img src=https://github.com/AI-Core/Content-Public/blob/main/Content/units/Essentials/7.%20Python%20programming/19.%20Debugging/images/Google_TypeError.png?raw=1 width=500></p>\n"
      ]
    },
    {
      "cell_type": "markdown",
      "metadata": {
        "id": "8uMDqTLsMAon"
      },
      "source": [
        "If your code contains a bug, it is very likely that someone else already had that problem. Thus, to save time and find a solution, it is preferable to search for the solution online (Stack Overflow is a good resource).\n",
        "\n",
        "Note that in programming, it is conventional to refer to online resources and documentation frequently. You are not required to know all error types and their corresponding solutions.\n",
        "\n",
        "<p align=center><img src=https://github.com/AI-Core/Content-Public/blob/main/Content/units/Essentials/7.%20Python%20programming/19.%20Debugging/images/Google_10.jpg?raw=1 width=300></p>"
      ]
    },
    {
      "cell_type": "markdown",
      "metadata": {
        "id": "8E3fm_IkMAon"
      },
      "source": [
        "If the problem is overly complex, you might need to refine your search with more specific words. Notably, your debugging skills will improve considerably with practice, as long as you have the right mindset from the start."
      ]
    },
    {
      "cell_type": "markdown",
      "metadata": {
        "id": "d5DWM0ndMAon"
      },
      "source": [
        "## Common Errors"
      ]
    },
    {
      "cell_type": "markdown",
      "metadata": {
        "id": "6-yngu_yMAoo"
      },
      "source": [
        "### NameError"
      ]
    },
    {
      "cell_type": "markdown",
      "metadata": {
        "id": "mnxmyv79MAoo"
      },
      "source": [
        "NameError occurs when a variable is used or a function is called without definition."
      ]
    },
    {
      "cell_type": "code",
      "execution_count": null,
      "metadata": {
        "id": "j_xVjDM2MAoo",
        "outputId": "cdff692b-eb38-4d8a-c6e3-b46766337591"
      },
      "outputs": [
        {
          "ename": "NameError",
          "evalue": "name 'y' is not defined",
          "output_type": "error",
          "traceback": [
            "\u001b[1;31m---------------------------------------------------------------------------\u001b[0m",
            "\u001b[1;31mNameError\u001b[0m                                 Traceback (most recent call last)",
            "\u001b[1;32m<ipython-input-1-87eafe7181cf>\u001b[0m in \u001b[0;36m<module>\u001b[1;34m\u001b[0m\n\u001b[1;32m----> 1\u001b[1;33m \u001b[0mx\u001b[0m \u001b[1;33m=\u001b[0m \u001b[0my\u001b[0m \u001b[1;33m+\u001b[0m \u001b[1;36m10\u001b[0m\u001b[1;33m\u001b[0m\u001b[1;33m\u001b[0m\u001b[0m\n\u001b[0m",
            "\u001b[1;31mNameError\u001b[0m: name 'y' is not defined"
          ]
        }
      ],
      "source": [
        "x = y + 10"
      ]
    },
    {
      "cell_type": "markdown",
      "metadata": {
        "id": "C76anmdlMAoo"
      },
      "source": [
        "#### Possible causes\n",
        "\n",
        "Spelling mistakes are a common cause of NameErrors. For example, below, we define and attempt to print a variable named `python`."
      ]
    },
    {
      "cell_type": "code",
      "execution_count": null,
      "metadata": {
        "id": "ync5gunzMAoo",
        "outputId": "2f2c509c-ae6c-4322-9ade-c1eaecfdbe5f"
      },
      "outputs": [
        {
          "ename": "NameError",
          "evalue": "name 'Python' is not defined",
          "output_type": "error",
          "traceback": [
            "\u001b[1;31m---------------------------------------------------------------------------\u001b[0m",
            "\u001b[1;31mNameError\u001b[0m                                 Traceback (most recent call last)",
            "\u001b[1;32m<ipython-input-1-a8f084a3e148>\u001b[0m in \u001b[0;36m<module>\u001b[1;34m\u001b[0m\n\u001b[0;32m      1\u001b[0m \u001b[0mpython\u001b[0m \u001b[1;33m=\u001b[0m \u001b[1;34m\"I'm 30 years old!\"\u001b[0m\u001b[1;33m\u001b[0m\u001b[1;33m\u001b[0m\u001b[0m\n\u001b[1;32m----> 2\u001b[1;33m \u001b[0mprint\u001b[0m\u001b[1;33m(\u001b[0m\u001b[0mPython\u001b[0m\u001b[1;33m)\u001b[0m\u001b[1;33m\u001b[0m\u001b[1;33m\u001b[0m\u001b[0m\n\u001b[0m",
            "\u001b[1;31mNameError\u001b[0m: name 'Python' is not defined"
          ]
        }
      ],
      "source": [
        "python = \"I'm 30 years old!\"\n",
        "print(Python)"
      ]
    },
    {
      "cell_type": "markdown",
      "metadata": {
        "id": "R8Lph6RuMAop"
      },
      "source": [
        "Observe that 'Python' was printed instead of 'python'. Since Python is case-sensitive, these words are not the same.\n",
        "\n",
        "Another common cause of NameErrors is declaring a variable out of scope. When a variable is defined within a function, it will remain in the scope of the function, i.e. the local scope."
      ]
    },
    {
      "cell_type": "code",
      "execution_count": null,
      "metadata": {
        "id": "swpXKRgeMAop",
        "outputId": "11930b7c-3483-438d-dc06-be8502a6b8a5"
      },
      "outputs": [
        {
          "ename": "NameError",
          "evalue": "name 'x' is not defined",
          "output_type": "error",
          "traceback": [
            "\u001b[1;31m---------------------------------------------------------------------------\u001b[0m",
            "\u001b[1;31mNameError\u001b[0m                                 Traceback (most recent call last)",
            "\u001b[1;32m<ipython-input-8-66661b3b4301>\u001b[0m in \u001b[0;36m<module>\u001b[1;34m\u001b[0m\n\u001b[0;32m      2\u001b[0m     \u001b[0mx\u001b[0m \u001b[1;33m=\u001b[0m \u001b[1;34m'I am inside the function!'\u001b[0m\u001b[1;33m\u001b[0m\u001b[1;33m\u001b[0m\u001b[0m\n\u001b[0;32m      3\u001b[0m \u001b[1;33m\u001b[0m\u001b[0m\n\u001b[1;32m----> 4\u001b[1;33m \u001b[0mprint\u001b[0m\u001b[1;33m(\u001b[0m\u001b[0mx\u001b[0m\u001b[1;33m)\u001b[0m\u001b[1;33m\u001b[0m\u001b[1;33m\u001b[0m\u001b[0m\n\u001b[0m",
            "\u001b[1;31mNameError\u001b[0m: name 'x' is not defined"
          ]
        }
      ],
      "source": [
        "def dummy_func():\n",
        "    x = 'I am inside the function!'\n",
        "\n",
        "print(x)"
      ]
    },
    {
      "cell_type": "markdown",
      "metadata": {
        "id": "qdR1HODnMAop"
      },
      "source": [
        "#### Debugging flow\n",
        "\n",
        "1. Read the final error in the traceback. It is a NameError that reads '`name 'x' is not defined`,' and the arrow points to line 4.\n",
        "2. Examine the spelling, and ensure that the variable name is correct.\n",
        "3. If working with functions, ensure that the variable is in the correct scope level.\n",
        "4. For the example above, you could return the value of `x`, so it becomes part of the global scope."
      ]
    },
    {
      "cell_type": "code",
      "execution_count": null,
      "metadata": {
        "id": "xny8AhFAMAop",
        "outputId": "d8281335-ebb1-42ad-8057-ed121b5026b2"
      },
      "outputs": [
        {
          "name": "stdout",
          "output_type": "stream",
          "text": [
            "I am inside the function!\n"
          ]
        }
      ],
      "source": [
        "def dummy_func():\n",
        "    return 'I am inside the function!'\n",
        "\n",
        "x = dummy_func()\n",
        "print(x)"
      ]
    },
    {
      "cell_type": "markdown",
      "metadata": {
        "id": "j9v6U6nnMAoq"
      },
      "source": [
        "### TypeError"
      ]
    },
    {
      "cell_type": "markdown",
      "metadata": {
        "id": "SmKh4KS3MAoq"
      },
      "source": [
        "A TypeError is thrown when the wrong data type is used in an operation or a function."
      ]
    },
    {
      "cell_type": "markdown",
      "metadata": {
        "id": "IfNlaTk5MAoq"
      },
      "source": [
        "#### Possible causes"
      ]
    },
    {
      "cell_type": "markdown",
      "metadata": {
        "id": "gsHQtKFjMAoq"
      },
      "source": [
        "The most common cause of a __TypeError__ is using a variable that cannot be processed in an operation. For example, in the code below, we attempt to print out the square of the number inputted by the user."
      ]
    },
    {
      "cell_type": "code",
      "execution_count": null,
      "metadata": {
        "id": "PORicePYMAoq",
        "outputId": "b437bbab-ebb3-42f3-b3f0-cf6bbd8be9ec"
      },
      "outputs": [
        {
          "name": "stdout",
          "output_type": "stream",
          "text": [
            "2\n"
          ]
        },
        {
          "ename": "TypeError",
          "evalue": "unsupported operand type(s) for ** or pow(): 'str' and 'int'",
          "output_type": "error",
          "traceback": [
            "\u001b[1;31m---------------------------------------------------------------------------\u001b[0m",
            "\u001b[1;31mTypeError\u001b[0m                                 Traceback (most recent call last)",
            "\u001b[1;32m<ipython-input-2-014d58182033>\u001b[0m in \u001b[0;36m<module>\u001b[1;34m\u001b[0m\n\u001b[0;32m      1\u001b[0m \u001b[0mx\u001b[0m \u001b[1;33m=\u001b[0m \u001b[0minput\u001b[0m\u001b[1;33m(\u001b[0m\u001b[1;34m'Enter your number'\u001b[0m\u001b[1;33m)\u001b[0m\u001b[1;33m\u001b[0m\u001b[1;33m\u001b[0m\u001b[0m\n\u001b[0;32m      2\u001b[0m \u001b[0mprint\u001b[0m\u001b[1;33m(\u001b[0m\u001b[0mx\u001b[0m\u001b[1;33m)\u001b[0m\u001b[1;33m\u001b[0m\u001b[1;33m\u001b[0m\u001b[0m\n\u001b[1;32m----> 3\u001b[1;33m \u001b[0mprint\u001b[0m\u001b[1;33m(\u001b[0m\u001b[0mx\u001b[0m \u001b[1;33m**\u001b[0m \u001b[1;36m2\u001b[0m\u001b[1;33m)\u001b[0m\u001b[1;33m\u001b[0m\u001b[1;33m\u001b[0m\u001b[0m\n\u001b[0m",
            "\u001b[1;31mTypeError\u001b[0m: unsupported operand type(s) for ** or pow(): 'str' and 'int'"
          ]
        }
      ],
      "source": [
        "x = input('Enter your number')\n",
        "print(x)\n",
        "print(x ** 2)"
      ]
    },
    {
      "cell_type": "markdown",
      "metadata": {
        "id": "qGzaqAmAMAoq"
      },
      "source": [
        "In this case, the problem arises because the input function returns a string (characters) by default. Thus, it would be equivalent to attempting to square a word.\n",
        "\n",
        "Another example is using two different data types within an operation."
      ]
    },
    {
      "cell_type": "code",
      "execution_count": null,
      "metadata": {
        "id": "nbeT6OsjMAoq",
        "outputId": "f410ead3-34c1-448e-f1bd-596956796a28"
      },
      "outputs": [
        {
          "ename": "TypeError",
          "evalue": "can only concatenate str (not \"int\") to str",
          "output_type": "error",
          "traceback": [
            "\u001b[1;31m---------------------------------------------------------------------------\u001b[0m",
            "\u001b[1;31mTypeError\u001b[0m                                 Traceback (most recent call last)",
            "\u001b[1;32m<ipython-input-6-d052e9eff03a>\u001b[0m in \u001b[0;36m<module>\u001b[1;34m\u001b[0m\n\u001b[0;32m      1\u001b[0m \u001b[0mx\u001b[0m \u001b[1;33m=\u001b[0m \u001b[1;34m'Hello'\u001b[0m\u001b[1;33m\u001b[0m\u001b[1;33m\u001b[0m\u001b[0m\n\u001b[0;32m      2\u001b[0m \u001b[0my\u001b[0m \u001b[1;33m=\u001b[0m \u001b[1;36m5\u001b[0m\u001b[1;33m\u001b[0m\u001b[1;33m\u001b[0m\u001b[0m\n\u001b[1;32m----> 3\u001b[1;33m \u001b[0mprint\u001b[0m\u001b[1;33m(\u001b[0m\u001b[0mx\u001b[0m \u001b[1;33m+\u001b[0m \u001b[0my\u001b[0m\u001b[1;33m)\u001b[0m\u001b[1;33m\u001b[0m\u001b[1;33m\u001b[0m\u001b[0m\n\u001b[0m",
            "\u001b[1;31mTypeError\u001b[0m: can only concatenate str (not \"int\") to str"
          ]
        }
      ],
      "source": [
        "x = 'Hello'\n",
        "y = 5\n",
        "print(x + y)"
      ]
    },
    {
      "cell_type": "markdown",
      "metadata": {
        "id": "gD9rbsfkMAor"
      },
      "source": [
        "Another common cause is accidentally replacing a Python built-in function. The `print` function is built-in; however, if replaced, `print` will assume the specified value."
      ]
    },
    {
      "cell_type": "code",
      "execution_count": null,
      "metadata": {
        "id": "sIfnNkM2MAor",
        "outputId": "de2b3a66-67f0-4bd3-a79c-55b1a7b8e607"
      },
      "outputs": [
        {
          "ename": "TypeError",
          "evalue": "'int' object is not callable",
          "output_type": "error",
          "traceback": [
            "\u001b[1;31m---------------------------------------------------------------------------\u001b[0m",
            "\u001b[1;31mTypeError\u001b[0m                                 Traceback (most recent call last)",
            "\u001b[1;32m<ipython-input-3-e7a974980d65>\u001b[0m in \u001b[0;36m<module>\u001b[1;34m\u001b[0m\n\u001b[0;32m      1\u001b[0m \u001b[0mprint\u001b[0m \u001b[1;33m=\u001b[0m \u001b[1;36m5\u001b[0m\u001b[1;33m\u001b[0m\u001b[1;33m\u001b[0m\u001b[0m\n\u001b[1;32m----> 2\u001b[1;33m \u001b[0mprint\u001b[0m\u001b[1;33m(\u001b[0m\u001b[1;34m'Hello World'\u001b[0m\u001b[1;33m)\u001b[0m\u001b[1;33m\u001b[0m\u001b[1;33m\u001b[0m\u001b[0m\n\u001b[0m",
            "\u001b[1;31mTypeError\u001b[0m: 'int' object is not callable"
          ]
        }
      ],
      "source": [
        "print = 5\n",
        "print('Hello World')"
      ]
    },
    {
      "cell_type": "markdown",
      "metadata": {
        "id": "iarnMeoDMAor"
      },
      "source": [
        "As shown, the returned error message informs us that we cannot __'call'__ for an integer, indicating that an integer is not a function."
      ]
    },
    {
      "cell_type": "markdown",
      "metadata": {
        "id": "ird7gjLyMAor"
      },
      "source": [
        "#### Debuging flow\n",
        "\n",
        "1. Read the final error in the traceback. It is a __TypeError__ that reads `'int' object is not callable`, and the arrow points to line 2.\n",
        "2. Examine the data type you are using.\n",
        "3. Determine the variable that is causing the issue. In this case, the problem is `print`, which has become an integer.\n",
        "4. Determine where the value of `print` was changed.\n",
        "\n",
        "As the name suggests, the main problem with a __TypeError__ is the data type of the variable used. The type of each variable can be determined using the `type()` function."
      ]
    },
    {
      "cell_type": "code",
      "execution_count": null,
      "metadata": {
        "id": "ae2jmJ4oMAos",
        "outputId": "bd46b88e-f16c-4589-bfa6-f72d0acf2143"
      },
      "outputs": [
        {
          "name": "stdout",
          "output_type": "stream",
          "text": [
            "The type of x is <class 'str'>\n",
            "The type of y is <class 'int'>\n",
            "4\n"
          ]
        }
      ],
      "source": [
        "x = input('Enter your number')\n",
        "print(f'The type of x is {type(x)}')\n",
        "y = int(x)\n",
        "print(f'The type of y is {type(y)}')\n",
        "print(y ** 2)"
      ]
    },
    {
      "cell_type": "markdown",
      "metadata": {
        "id": "Zbk6cUZLMAos"
      },
      "source": [
        "### ValueError"
      ]
    },
    {
      "cell_type": "markdown",
      "metadata": {
        "id": "12qawEKsMAos"
      },
      "source": [
        "\n",
        "ValueError occurs when an inappropriate value is used with the right data type for an operation or function."
      ]
    },
    {
      "cell_type": "markdown",
      "metadata": {
        "id": "G-qbyuCTMAos"
      },
      "source": [
        "#### Possible causes\n",
        "\n",
        "One of the most common causes is casting a string to an integer, and passing a string that does not represent an integer."
      ]
    },
    {
      "cell_type": "code",
      "execution_count": null,
      "metadata": {
        "id": "RmXuy8i5MAow",
        "outputId": "092a1311-f44c-4273-fc32-5006aaf48090"
      },
      "outputs": [
        {
          "name": "stdout",
          "output_type": "stream",
          "text": [
            "The type of x is <class 'str'>\n",
            "The type of y is <class 'int'>\n"
          ]
        }
      ],
      "source": [
        "x = '2'\n",
        "print(f'The type of x is {type(x)}')\n",
        "y = int(x)\n",
        "print(f'The type of y is {type(y)}')"
      ]
    },
    {
      "cell_type": "markdown",
      "metadata": {
        "id": "ETjpdW8kMAow"
      },
      "source": [
        "The code above works; however, consider the following:"
      ]
    },
    {
      "cell_type": "code",
      "execution_count": null,
      "metadata": {
        "id": "txfxoSykMAox",
        "outputId": "c4a4f10d-5e57-496e-8113-4c8216e66bd4"
      },
      "outputs": [
        {
          "name": "stdout",
          "output_type": "stream",
          "text": [
            "The type of x is <class 'str'>\n"
          ]
        },
        {
          "ename": "ValueError",
          "evalue": "invalid literal for int() with base 10: 'Dog'",
          "output_type": "error",
          "traceback": [
            "\u001b[1;31m---------------------------------------------------------------------------\u001b[0m",
            "\u001b[1;31mValueError\u001b[0m                                Traceback (most recent call last)",
            "\u001b[1;32m<ipython-input-3-4d9f42a11682>\u001b[0m in \u001b[0;36m<module>\u001b[1;34m\u001b[0m\n\u001b[0;32m      1\u001b[0m \u001b[0mx\u001b[0m \u001b[1;33m=\u001b[0m \u001b[1;34m'Dog'\u001b[0m\u001b[1;33m\u001b[0m\u001b[1;33m\u001b[0m\u001b[0m\n\u001b[0;32m      2\u001b[0m \u001b[0mprint\u001b[0m\u001b[1;33m(\u001b[0m\u001b[1;34mf'The type of x is {type(x)}'\u001b[0m\u001b[1;33m)\u001b[0m\u001b[1;33m\u001b[0m\u001b[1;33m\u001b[0m\u001b[0m\n\u001b[1;32m----> 3\u001b[1;33m \u001b[0my\u001b[0m \u001b[1;33m=\u001b[0m \u001b[0mint\u001b[0m\u001b[1;33m(\u001b[0m\u001b[0mx\u001b[0m\u001b[1;33m)\u001b[0m\u001b[1;33m\u001b[0m\u001b[1;33m\u001b[0m\u001b[0m\n\u001b[0m\u001b[0;32m      4\u001b[0m \u001b[0mprint\u001b[0m\u001b[1;33m(\u001b[0m\u001b[1;34mf'The type of y is {type(y)}'\u001b[0m\u001b[1;33m)\u001b[0m\u001b[1;33m\u001b[0m\u001b[1;33m\u001b[0m\u001b[0m\n",
            "\u001b[1;31mValueError\u001b[0m: invalid literal for int() with base 10: 'Dog'"
          ]
        }
      ],
      "source": [
        "x = 'Dog'\n",
        "print(f'The type of x is {type(x)}')\n",
        "y = int(x)\n",
        "print(f'The type of y is {type(y)}')"
      ]
    },
    {
      "cell_type": "markdown",
      "metadata": {
        "id": "tEm7zHm7MAox"
      },
      "source": [
        "As the error message explains, the value passed to the `int` function is not valid because it does not represent a number.\n",
        "\n",
        "#### Debugging flow\n",
        "\n",
        "1. Read the final error in the traceback. It is a __ValueError__ that reads `invalid literal for int() with base 10: 'Dog'`, and the arrow points to line 3.\n",
        "2. Examine the __value__ passing to the function, in this case, `Dog`.\n",
        "3. Ensure that the appropriate function or the correct value is applied."
      ]
    },
    {
      "cell_type": "markdown",
      "metadata": {
        "id": "6VJVhGh2MAox"
      },
      "source": [
        "\n",
        "ValueErrors are often defined by the developers when creating their applications. This way, they can prevent programmers from using values that will not work with their application.\n",
        "\n",
        "Consider another example:"
      ]
    },
    {
      "cell_type": "code",
      "execution_count": null,
      "metadata": {
        "id": "JhEMZ3tzMAox",
        "outputId": "4b8c78a7-dda9-4b84-d230-91f1c48c7898"
      },
      "outputs": [
        {
          "ename": "ValueError",
          "evalue": "math domain error",
          "output_type": "error",
          "traceback": [
            "\u001b[1;31m---------------------------------------------------------------------------\u001b[0m",
            "\u001b[1;31mValueError\u001b[0m                                Traceback (most recent call last)",
            "\u001b[1;32m<ipython-input-4-ed311b1c5dd9>\u001b[0m in \u001b[0;36m<module>\u001b[1;34m\u001b[0m\n\u001b[0;32m      1\u001b[0m \u001b[1;32mimport\u001b[0m \u001b[0mmath\u001b[0m\u001b[1;33m\u001b[0m\u001b[1;33m\u001b[0m\u001b[0m\n\u001b[1;32m----> 2\u001b[1;33m \u001b[0mmath\u001b[0m\u001b[1;33m.\u001b[0m\u001b[0msqrt\u001b[0m\u001b[1;33m(\u001b[0m\u001b[1;33m-\u001b[0m\u001b[1;36m1\u001b[0m\u001b[1;33m)\u001b[0m\u001b[1;33m\u001b[0m\u001b[1;33m\u001b[0m\u001b[0m\n\u001b[0m",
            "\u001b[1;31mValueError\u001b[0m: math domain error"
          ]
        }
      ],
      "source": [
        "import math\n",
        "math.sqrt(-1)"
      ]
    },
    {
      "cell_type": "markdown",
      "metadata": {
        "id": "do1kEltSMAox"
      },
      "source": [
        "#### Debugging flow\n",
        "\n",
        "1. Read the final error in the traceback. It is a __ValueError__ that reads '`math domain error`', and the arrow points to line 2.\n",
        "2. Examine the __value__ passed to the function. In this case, we are attempting to calculate the square root of `-1`.\n",
        "3. You can either change the value of the variable or find another function that can calculate the square root of a negative number.\n",
        "\n",
        "For the latter option,\n",
        "Google it.\n",
        "<p align=center><img src=https://github.com/AI-Core/Content-Public/blob/main/Content/units/Essentials/7.%20Python%20programming/19.%20Debugging/images/Google_1.png?raw=1 width=500></p>\n",
        "If that does not work, explore different keywords.\n",
        "<p align=center><img src=https://github.com/AI-Core/Content-Public/blob/main/Content/units/Essentials/7.%20Python%20programming/19.%20Debugging/images/Google_2.png?raw=1 width=500></p>"
      ]
    },
    {
      "cell_type": "markdown",
      "metadata": {
        "id": "XreER57-MAox"
      },
      "source": [
        "Afterwards, try the found solution."
      ]
    },
    {
      "cell_type": "code",
      "execution_count": null,
      "metadata": {
        "id": "ASFxYG1IMAoy",
        "outputId": "0b4ce196-109d-41c7-bd97-f3a39a8f989f"
      },
      "outputs": [
        {
          "data": {
            "text/plain": [
              "1j"
            ]
          },
          "execution_count": 4,
          "metadata": {},
          "output_type": "execute_result"
        }
      ],
      "source": [
        "import cmath\n",
        "cmath.sqrt(-1)"
      ]
    },
    {
      "cell_type": "markdown",
      "metadata": {
        "id": "yEWrgUlwMAoy"
      },
      "source": [
        "Here, the solution works. However, if it does not in your case, keep refining your search until you find the right answer."
      ]
    },
    {
      "cell_type": "markdown",
      "metadata": {
        "id": "zBChMl0yMAoy"
      },
      "source": [
        "### SyntaxError"
      ]
    },
    {
      "cell_type": "markdown",
      "metadata": {
        "id": "8yuDRPjuMAoy"
      },
      "source": [
        "A SyntaxError is thrown when Python finds a syntax error."
      ]
    },
    {
      "cell_type": "markdown",
      "metadata": {
        "id": "f5TT-XNDMAoy"
      },
      "source": [
        "#### Possible causes\n",
        "One of the most common causes is omitting closing brackets or quotes."
      ]
    },
    {
      "cell_type": "code",
      "execution_count": null,
      "metadata": {
        "id": "xIQatVlaMAoy",
        "outputId": "f4b64157-1222-4200-f461-29b21bd0c518"
      },
      "outputs": [
        {
          "ename": "SyntaxError",
          "evalue": "EOL while scanning string literal (<ipython-input-7-6e6ee195e71c>, line 1)",
          "output_type": "error",
          "traceback": [
            "\u001b[1;36m  File \u001b[1;32m\"<ipython-input-7-6e6ee195e71c>\"\u001b[1;36m, line \u001b[1;32m1\u001b[0m\n\u001b[1;33m    x = 'Hello\u001b[0m\n\u001b[1;37m              ^\u001b[0m\n\u001b[1;31mSyntaxError\u001b[0m\u001b[1;31m:\u001b[0m EOL while scanning string literal\n"
          ]
        }
      ],
      "source": [
        "x = 'Hello"
      ]
    },
    {
      "cell_type": "code",
      "execution_count": null,
      "metadata": {
        "id": "Y1a3DnvoMAoz",
        "outputId": "79fead9d-a193-47f8-d41b-c5ec90602617"
      },
      "outputs": [
        {
          "ename": "SyntaxError",
          "evalue": "unexpected EOF while parsing (<ipython-input-8-1a1cdaf4f567>, line 1)",
          "output_type": "error",
          "traceback": [
            "\u001b[1;36m  File \u001b[1;32m\"<ipython-input-8-1a1cdaf4f567>\"\u001b[1;36m, line \u001b[1;32m1\u001b[0m\n\u001b[1;33m    y = (5 + 3\u001b[0m\n\u001b[1;37m              ^\u001b[0m\n\u001b[1;31mSyntaxError\u001b[0m\u001b[1;31m:\u001b[0m unexpected EOF while parsing\n"
          ]
        }
      ],
      "source": [
        "y = (5 + 3"
      ]
    },
    {
      "cell_type": "markdown",
      "metadata": {
        "id": "SuVMLPHUMAoz"
      },
      "source": [
        "#### Debugging flow"
      ]
    },
    {
      "cell_type": "markdown",
      "metadata": {
        "id": "4Gn-KQMJMAoz"
      },
      "source": [
        "1. Read the final error in the traceback. It is a __ValueError__ that reads '`unexpected EOF while parsing`', and the arrow points to line 1.\n",
        "2. If you are unsure about the meaning of the error, Google it.\n",
        "<p align=center><img src=https://github.com/AI-Core/Content-Public/blob/main/Content/units/Essentials/7.%20Python%20programming/19.%20Debugging/images/Google_EOF.png?raw=1 width=500></p>\n",
        "3. Based on the search, we can see that EOF means end of file, and it is thrown when there is a mistake in the syntax. Thus, go to line 1 and correct the mistake."
      ]
    },
    {
      "cell_type": "code",
      "execution_count": null,
      "metadata": {
        "id": "Cw_Z4wTtMAoz"
      },
      "outputs": [],
      "source": [
        "y = ((5 + 3) / 2)"
      ]
    },
    {
      "cell_type": "markdown",
      "metadata": {
        "id": "pcMhoNC6MAoz"
      },
      "source": [
        "*Tip*\n",
        "\n",
        "Observe that when the cursor is next to the right bracket, the corresponding bracket (leftmost) is highlighted. Conversely, if the cursor is next to one of the inner brackets, the corresponding inner bracket is highlighted. This tip can aid you in preventing syntax errors.\n",
        "\n",
        "<p align=center><img src=https://github.com/AI-Core/Content-Public/blob/main/Content/units/Essentials/7.%20Python%20programming/19.%20Debugging/images/outer.png?raw=1 width=200> <img src=https://github.com/AI-Core/Content-Public/blob/main/Content/units/Essentials/7.%20Python%20programming/19.%20Debugging/images/inner.png?raw=1 width=200></p>"
      ]
    },
    {
      "cell_type": "markdown",
      "metadata": {
        "id": "9mxeZurUMAoz"
      },
      "source": [
        "### IndexError and KeyError"
      ]
    },
    {
      "cell_type": "markdown",
      "metadata": {
        "id": "LHbKMsrBMAo0"
      },
      "source": [
        "#### Possible causes"
      ]
    },
    {
      "cell_type": "markdown",
      "metadata": {
        "id": "JDvFwSvDMAo0"
      },
      "source": [
        "These errors occur when attempting to access an element that is out of range (`IndexError`) or when using a non-existent key in a dictionary (`KeyError`)."
      ]
    },
    {
      "cell_type": "code",
      "execution_count": null,
      "metadata": {
        "id": "RKbTSSuuMAo0",
        "outputId": "4140fc2a-c822-4a1b-baf9-ca2daef79679"
      },
      "outputs": [
        {
          "ename": "IndexError",
          "evalue": "list index out of range",
          "output_type": "error",
          "traceback": [
            "\u001b[1;31m---------------------------------------------------------------------------\u001b[0m",
            "\u001b[1;31mIndexError\u001b[0m                                Traceback (most recent call last)",
            "\u001b[1;32m<ipython-input-14-fb13742f3dd5>\u001b[0m in \u001b[0;36m<module>\u001b[1;34m\u001b[0m\n\u001b[0;32m      1\u001b[0m \u001b[0mls\u001b[0m \u001b[1;33m=\u001b[0m \u001b[1;33m[\u001b[0m\u001b[1;36m1\u001b[0m\u001b[1;33m,\u001b[0m \u001b[1;36m2\u001b[0m\u001b[1;33m,\u001b[0m \u001b[1;36m3\u001b[0m\u001b[1;33m]\u001b[0m\u001b[1;33m\u001b[0m\u001b[1;33m\u001b[0m\u001b[0m\n\u001b[1;32m----> 2\u001b[1;33m \u001b[0mls\u001b[0m\u001b[1;33m[\u001b[0m\u001b[1;36m3\u001b[0m\u001b[1;33m]\u001b[0m\u001b[1;33m\u001b[0m\u001b[1;33m\u001b[0m\u001b[0m\n\u001b[0m",
            "\u001b[1;31mIndexError\u001b[0m: list index out of range"
          ]
        }
      ],
      "source": [
        "ls = [1, 2, 3]\n",
        "ls[3]"
      ]
    },
    {
      "cell_type": "markdown",
      "metadata": {
        "id": "Kn1bTu8aMAo0"
      },
      "source": [
        "Recall that Python is zero-indexed; therefore, this error is thrown because index 3 points to the fourth element, which is nonexistent in `ls`."
      ]
    },
    {
      "cell_type": "code",
      "execution_count": null,
      "metadata": {
        "id": "lMZVwOMTMAo0",
        "outputId": "a965acaf-e0f6-494e-da63-4a5d7cfe5ed4"
      },
      "outputs": [
        {
          "ename": "KeyError",
          "evalue": "'Age'",
          "output_type": "error",
          "traceback": [
            "\u001b[1;31m---------------------------------------------------------------------------\u001b[0m",
            "\u001b[1;31mKeyError\u001b[0m                                  Traceback (most recent call last)",
            "\u001b[1;32m<ipython-input-15-f7fae62e8e3d>\u001b[0m in \u001b[0;36m<module>\u001b[1;34m\u001b[0m\n\u001b[0;32m      1\u001b[0m \u001b[0mmy_dict\u001b[0m \u001b[1;33m=\u001b[0m \u001b[1;33m{\u001b[0m\u001b[1;34m'Name'\u001b[0m\u001b[1;33m:\u001b[0m \u001b[1;34m'Walter White'\u001b[0m\u001b[1;33m,\u001b[0m \u001b[1;34m'Occupation'\u001b[0m\u001b[1;33m:\u001b[0m \u001b[1;34m'Cook'\u001b[0m\u001b[1;33m}\u001b[0m\u001b[1;33m\u001b[0m\u001b[1;33m\u001b[0m\u001b[0m\n\u001b[1;32m----> 2\u001b[1;33m \u001b[0mmy_dict\u001b[0m\u001b[1;33m[\u001b[0m\u001b[1;34m'Age'\u001b[0m\u001b[1;33m]\u001b[0m\u001b[1;33m\u001b[0m\u001b[1;33m\u001b[0m\u001b[0m\n\u001b[0m",
            "\u001b[1;31mKeyError\u001b[0m: 'Age'"
          ]
        }
      ],
      "source": [
        "my_dict = {'Name': 'Walter White', 'Occupation': 'Cook'}\n",
        "my_dict['Age']"
      ]
    },
    {
      "cell_type": "markdown",
      "metadata": {
        "id": "uqfpvsVOMAo0"
      },
      "source": [
        "We can observe that `my_dict` does not have a key named `Age`; therefore, Python will throw an error. This should not be confused with assigning a value to a non-existent key, in which case a new key will simply be added to the dictionary:"
      ]
    },
    {
      "cell_type": "code",
      "execution_count": null,
      "metadata": {
        "id": "dygciSF_MAo1",
        "outputId": "63af6d57-6109-4421-f349-6478a681d71c"
      },
      "outputs": [
        {
          "name": "stdout",
          "output_type": "stream",
          "text": [
            "{'Name': 'Walter White', 'Occupation': 'Cook', 'Age': 52}\n"
          ]
        }
      ],
      "source": [
        "my_dict = {'Name': 'Walter White', 'Occupation': 'Cook'}\n",
        "my_dict['Age'] = 52\n",
        "print(my_dict)"
      ]
    },
    {
      "cell_type": "markdown",
      "metadata": {
        "id": "W7prqUr_MAo1"
      },
      "source": [
        "#### Debugging flow"
      ]
    },
    {
      "cell_type": "markdown",
      "metadata": {
        "id": "9sOaRrpHMAo1"
      },
      "source": [
        "IndexErrors and KeyErrors are quite common, particularly at the beginning of a programmer's journey; however, they are simple to resolve. Consider the below IndexError message:"
      ]
    },
    {
      "cell_type": "code",
      "execution_count": null,
      "metadata": {
        "id": "hKvKV5QiMAo1",
        "outputId": "ec22d2dd-86bd-48d5-90e3-e7002fa1f080"
      },
      "outputs": [
        {
          "ename": "IndexError",
          "evalue": "list index out of range",
          "output_type": "error",
          "traceback": [
            "\u001b[1;31m---------------------------------------------------------------------------\u001b[0m",
            "\u001b[1;31mIndexError\u001b[0m                                Traceback (most recent call last)",
            "\u001b[1;32m<ipython-input-5-fb13742f3dd5>\u001b[0m in \u001b[0;36m<module>\u001b[1;34m\u001b[0m\n\u001b[0;32m      1\u001b[0m \u001b[0mls\u001b[0m \u001b[1;33m=\u001b[0m \u001b[1;33m[\u001b[0m\u001b[1;36m1\u001b[0m\u001b[1;33m,\u001b[0m \u001b[1;36m2\u001b[0m\u001b[1;33m,\u001b[0m \u001b[1;36m3\u001b[0m\u001b[1;33m]\u001b[0m\u001b[1;33m\u001b[0m\u001b[1;33m\u001b[0m\u001b[0m\n\u001b[1;32m----> 2\u001b[1;33m \u001b[0mls\u001b[0m\u001b[1;33m[\u001b[0m\u001b[1;36m3\u001b[0m\u001b[1;33m]\u001b[0m\u001b[1;33m\u001b[0m\u001b[1;33m\u001b[0m\u001b[0m\n\u001b[0m",
            "\u001b[1;31mIndexError\u001b[0m: list index out of range"
          ]
        }
      ],
      "source": [
        "ls = [1, 2, 3]\n",
        "ls[3]"
      ]
    },
    {
      "cell_type": "markdown",
      "metadata": {
        "id": "dnyCnlFoMAo1"
      },
      "source": [
        "1. Read the final error in the traceback. It is an __IndexError__ that reads '`list index out of range`', and the arrow points to line 2.\n",
        "2. Ensure that your list (or other sequential data structure) contains the index that you are attempting to access. The number of elements in the list can be determined using the `len` function."
      ]
    },
    {
      "cell_type": "code",
      "execution_count": null,
      "metadata": {
        "id": "D093M4TvMAo1",
        "outputId": "676d46e3-a91f-4716-a157-6cb2b0d29c35"
      },
      "outputs": [
        {
          "name": "stdout",
          "output_type": "stream",
          "text": [
            "3\n"
          ]
        }
      ],
      "source": [
        "ls = [1, 2, 3]\n",
        "print(len(ls))"
      ]
    },
    {
      "cell_type": "markdown",
      "metadata": {
        "id": "bilFWf4OMAo1"
      },
      "source": [
        "Thus, the last accessible __index__ is __2__ `(length of list - 1)`.\n",
        "\n",
        "As a dictionary example, consider the following:"
      ]
    },
    {
      "cell_type": "code",
      "execution_count": null,
      "metadata": {
        "id": "6R04m_UcMAo2",
        "outputId": "1e1bd421-c112-4b3e-9c2a-d2c544fd539c"
      },
      "outputs": [
        {
          "ename": "KeyError",
          "evalue": "'Age'",
          "output_type": "error",
          "traceback": [
            "\u001b[1;31m---------------------------------------------------------------------------\u001b[0m",
            "\u001b[1;31mKeyError\u001b[0m                                  Traceback (most recent call last)",
            "\u001b[1;32m<ipython-input-6-f7fae62e8e3d>\u001b[0m in \u001b[0;36m<module>\u001b[1;34m\u001b[0m\n\u001b[0;32m      1\u001b[0m \u001b[0mmy_dict\u001b[0m \u001b[1;33m=\u001b[0m \u001b[1;33m{\u001b[0m\u001b[1;34m'Name'\u001b[0m\u001b[1;33m:\u001b[0m \u001b[1;34m'Walter White'\u001b[0m\u001b[1;33m,\u001b[0m \u001b[1;34m'Occupation'\u001b[0m\u001b[1;33m:\u001b[0m \u001b[1;34m'Cook'\u001b[0m\u001b[1;33m}\u001b[0m\u001b[1;33m\u001b[0m\u001b[1;33m\u001b[0m\u001b[0m\n\u001b[1;32m----> 2\u001b[1;33m \u001b[0mmy_dict\u001b[0m\u001b[1;33m[\u001b[0m\u001b[1;34m'Age'\u001b[0m\u001b[1;33m]\u001b[0m\u001b[1;33m\u001b[0m\u001b[1;33m\u001b[0m\u001b[0m\n\u001b[0m",
            "\u001b[1;31mKeyError\u001b[0m: 'Age'"
          ]
        }
      ],
      "source": [
        "my_dict = {'Name': 'Walter White', 'Occupation': 'Cook'}\n",
        "my_dict['Age']"
      ]
    },
    {
      "cell_type": "markdown",
      "metadata": {
        "id": "hzWqU__6MAo2"
      },
      "source": [
        "1. Read the final error in the traceback. It is a __KeyError__ that reads `'Age'`, and the arrow points to line 2.\n",
        "2. 'Age' is the name of the non-existent key.\n",
        "3. The keys in the dictionary can be inspected using the `keys()` method."
      ]
    },
    {
      "cell_type": "code",
      "execution_count": null,
      "metadata": {
        "id": "Lq__4gPQMAo2",
        "outputId": "b20754c2-fa73-46ad-b89b-050521daaba0"
      },
      "outputs": [
        {
          "name": "stdout",
          "output_type": "stream",
          "text": [
            "dict_keys(['Name', 'Occupation'])\n"
          ]
        }
      ],
      "source": [
        "my_dict = {'Name': 'Walter White', 'Occupation': 'Cook'}\n",
        "print(my_dict.keys())"
      ]
    },
    {
      "cell_type": "markdown",
      "metadata": {
        "id": "0BfxdRBpMAo2"
      },
      "source": [
        "4. Add the key to the dictionary or ensure that it is correct."
      ]
    },
    {
      "cell_type": "markdown",
      "metadata": {
        "id": "dEK5WO78MAo2"
      },
      "source": [
        "### AttributeError"
      ]
    },
    {
      "cell_type": "markdown",
      "metadata": {
        "id": "dEAUztVfMAo2"
      },
      "source": [
        "This error is thrown when attempting to access an attribute or a method in an object in which it does not exist."
      ]
    },
    {
      "cell_type": "markdown",
      "metadata": {
        "id": "0SgxXX_QMAo3"
      },
      "source": [
        "#### Possible causes\n",
        "This error occurs mostly when an inappropriate wrong method is used with a data type. For example, dictionaries have the `keys()` method, while lists do not."
      ]
    },
    {
      "cell_type": "code",
      "execution_count": null,
      "metadata": {
        "id": "LEZMDEtVMAo3",
        "outputId": "1eda55b7-ad7b-4bca-c931-194a66c2e6bd"
      },
      "outputs": [
        {
          "ename": "AttributeError",
          "evalue": "'list' object has no attribute 'keys'",
          "output_type": "error",
          "traceback": [
            "\u001b[1;31m---------------------------------------------------------------------------\u001b[0m",
            "\u001b[1;31mAttributeError\u001b[0m                            Traceback (most recent call last)",
            "\u001b[1;32m<ipython-input-21-cf39c5813e09>\u001b[0m in \u001b[0;36m<module>\u001b[1;34m\u001b[0m\n\u001b[0;32m      1\u001b[0m \u001b[0mls\u001b[0m \u001b[1;33m=\u001b[0m \u001b[1;33m[\u001b[0m\u001b[1;36m1\u001b[0m\u001b[1;33m,\u001b[0m \u001b[1;36m2\u001b[0m\u001b[1;33m,\u001b[0m \u001b[1;36m3\u001b[0m\u001b[1;33m]\u001b[0m\u001b[1;33m\u001b[0m\u001b[1;33m\u001b[0m\u001b[0m\n\u001b[1;32m----> 2\u001b[1;33m \u001b[0mls\u001b[0m\u001b[1;33m.\u001b[0m\u001b[0mkeys\u001b[0m\u001b[1;33m(\u001b[0m\u001b[1;33m)\u001b[0m\u001b[1;33m\u001b[0m\u001b[1;33m\u001b[0m\u001b[0m\n\u001b[0m",
            "\u001b[1;31mAttributeError\u001b[0m: 'list' object has no attribute 'keys'"
          ]
        }
      ],
      "source": [
        "ls = [1, 2, 3]\n",
        "ls.keys()"
      ]
    },
    {
      "cell_type": "markdown",
      "metadata": {
        "id": "Q_RXoQX3MAo3"
      },
      "source": [
        "#### Debugging flow"
      ]
    },
    {
      "cell_type": "markdown",
      "metadata": {
        "id": "GYQfiP_oMAo3"
      },
      "source": [
        "1. Read the final error in the traceback. It is an __AttributeError__ that reads, `'list' object has no attribute 'keys'`, and the arrow points to line 2.\n",
        "2. Check the methods associated with the data type. If working in a modern IDE, such as VSCode, you can press Ctrl + Space to see the available methods and attributes. For this to work, an internet connection might be required.\n",
        "<p align=center><img src=https://github.com/AI-Core/Content-Public/blob/main/Content/units/Essentials/7.%20Python%20programming/19.%20Debugging/images/attributeerror.png?raw=1 width=400></p>\n",
        "\n",
        "3. If you are unsure about the methods that a specific data type has, Google it.\n",
        "<p align=center><img src=https://github.com/AI-Core/Content-Public/blob/main/Content/units/Essentials/7.%20Python%20programming/19.%20Debugging/images/Google_dict_methods.png?raw=1 width=400></p>"
      ]
    },
    {
      "cell_type": "markdown",
      "metadata": {
        "id": "OWSMIUMnMAo3"
      },
      "source": [
        "This way, you can guarantee that you use a method that the variable does have. Additionally, you can explore the Python documentation to determine the methods that these data structures have. Check out this [page](https://docs.python.org/3/tutorial/datastructures.html) for more information."
      ]
    },
    {
      "cell_type": "markdown",
      "metadata": {
        "id": "WclMZWtBMAo3"
      },
      "source": [
        "## Hidden Bugs"
      ]
    },
    {
      "cell_type": "markdown",
      "metadata": {
        "id": "rtrIkZ6-MAo3"
      },
      "source": [
        "There are situations where your code does not generate the expected output and also does not throw any error. For example, in the following code, our __initial__ intention is to multiply each number by 2:"
      ]
    },
    {
      "cell_type": "code",
      "execution_count": null,
      "metadata": {
        "id": "DjEhf3VFMAo4",
        "outputId": "9f79bb4e-d8f4-425e-eb51-5f3238eef4ff"
      },
      "outputs": [
        {
          "name": "stdout",
          "output_type": "stream",
          "text": [
            "[1, 2, 3, 1, 2, 3]\n"
          ]
        }
      ],
      "source": [
        "x = [1, 2, 3]\n",
        "print(x * 2)"
      ]
    },
    {
      "cell_type": "markdown",
      "metadata": {
        "id": "O9bP7sEhMAo4"
      },
      "source": [
        "Evidently, no error is thrown; however, we do not obtain the expected output. Eventually, you will learn how to multiply each element in a list; alternatively, you can follow the same steps discussed in this notebook.\n",
        "\n",
        "<p align=center><img src=https://github.com/AI-Core/Content-Public/blob/main/Content/units/Essentials/7.%20Python%20programming/19.%20Debugging/images/Google_list.png?raw=1 width=400></p>"
      ]
    },
    {
      "cell_type": "code",
      "execution_count": null,
      "metadata": {
        "id": "OWPYmluNMAo4",
        "outputId": "cfa55b79-285d-434e-dd42-2c65774fc61a"
      },
      "outputs": [
        {
          "name": "stdout",
          "output_type": "stream",
          "text": [
            "[2, 4, 6]\n"
          ]
        }
      ],
      "source": [
        "x = [1, 2, 3]\n",
        "multiplied_list = [element * 2 for element in x]\n",
        "print(multiplied_list)"
      ]
    },
    {
      "cell_type": "markdown",
      "metadata": {
        "id": "9qkI7qNsMAo4"
      },
      "source": [
        "## Summary"
      ]
    },
    {
      "cell_type": "markdown",
      "metadata": {
        "id": "48RrOD8_MAo4"
      },
      "source": [
        "We introduced the most common errors you are likely to encounter. Eventually, you will encounter more errors, about which you can find more information [here](https://docs.python.org/3/library/exceptions.html).\n",
        "\n",
        "In a nutshell, if you have an error output, follow these steps:\n",
        "1. Read the error message, and attempt to solve it based on the error output.\n",
        "2. If you cannot solve it, Google the problem.\n",
        "3. If that does not work, refine your search keywords.\n",
        "4. Attempt the solutions you find in your searches, and keep refining your keywords.\n",
        "5. If the above does not work, ask your instructor for help.\n",
        "\n",
        "By repeating this process, you will gradually acquire the skill of writing good code with a few errors.\n",
        "\n",
        "\n",
        "Throughout this lesson, we discussed the steps to take when an error presents. However, endeavour to be flexible, and note that the steps outlined here are not a universal solution for all errors.\n",
        "\n",
        "Proactiveness is an important quality for a programmer. When faced with hindrances, endeavour to find the solution and not commit the same mistake again. As mentioned previously, your overall programming and debugging skills will improve with practice.\n",
        "\n",
        "> <font size=+1> Starting with the right mindset will save you a considerable amount of time.</font>"
      ]
    },
    {
      "cell_type": "markdown",
      "metadata": {
        "id": "1Mxs9SvMMAo4"
      },
      "source": [
        "## Using the Debugger"
      ]
    },
    {
      "cell_type": "markdown",
      "metadata": {
        "id": "Fh3SSxv5MAo5"
      },
      "source": [
        "If working in an IDE, you can debug your code using the integrated debugger. This should be used for really complex problems. The debugger can be used in both notebooks and scripts. Run the next cell to download a file named `example.py`, where you can run the debugger. If using VSCode, you can go to `Run` and click `Start Debugging`. For other IDEs, check the corresponding documentation."
      ]
    },
    {
      "cell_type": "code",
      "execution_count": null,
      "metadata": {
        "id": "NgMp5ktIMAo5"
      },
      "outputs": [],
      "source": [
        "!wget https://aicore-files.s3.amazonaws.com/Foundations/Python_Programming/example.py"
      ]
    },
    {
      "cell_type": "markdown",
      "metadata": {
        "id": "0iR6NZumMAo5"
      },
      "source": [
        "Most times, a debugger is not necessary. You can find the root cause of the problem quickly by simply adding print statements and working your way back. However, it is useful to know that it exists should you ever hit a wall."
      ]
    },
    {
      "cell_type": "markdown",
      "metadata": {
        "id": "BtvMqxAbMAo5"
      },
      "source": [
        "In the debugger mode, you can determine what point to stop and check the status of your code. These 'stops' are called break points. They are particularly useful when the flow of the code is not linear and you are attempting to pinpoint the origin of the unexpected behaviour."
      ]
    },
    {
      "cell_type": "markdown",
      "metadata": {
        "id": "3Rnmbl0PMAo5"
      },
      "source": [
        "<p align=center><img src=https://github.com/AI-Core/Content-Public/blob/main/Content/units/Essentials/7.%20Python%20programming/19.%20Debugging/images/debugger.png?raw=1 width=500></p>"
      ]
    },
    {
      "cell_type": "markdown",
      "metadata": {
        "id": "e2B-avadMAo5"
      },
      "source": [
        "As shown in the figure above, the Debug Console is located at the bottom. In it, you can determine the values of variables and perform operations with the variables corresponding to the break points."
      ]
    },
    {
      "cell_type": "markdown",
      "metadata": {
        "id": "N4_qmCCuMAo5"
      },
      "source": [
        "## Conclusion\n",
        "At this point, you should have a good understanding of"
      ]
    },
    {
      "cell_type": "markdown",
      "metadata": {
        "id": "Cr9pjqZoMAo5"
      },
      "source": [
        "- how to read errors in the console.\n",
        "- the steps to take when addressing an error.\n",
        "- the most common errors in Python and their solutions.\n",
        "- how to use the debugger."
      ]
    }
  ],
  "metadata": {
    "interpreter": {
      "hash": "ad8bebc098a042dc0df4e42fc2ecc8fff0bd7b8741641ce29007c29766dadbe0"
    },
    "kernelspec": {
      "display_name": "Python 3.9.1 64-bit ('base': conda)",
      "name": "python3"
    },
    "language_info": {
      "codemirror_mode": {
        "name": "ipython",
        "version": 3
      },
      "file_extension": ".py",
      "mimetype": "text/x-python",
      "name": "python",
      "nbconvert_exporter": "python",
      "pygments_lexer": "ipython3",
      "version": "3.9.5"
    },
    "colab": {
      "provenance": [],
      "include_colab_link": true
    }
  },
  "nbformat": 4,
  "nbformat_minor": 0
}