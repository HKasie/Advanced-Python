{
  "cells": [
    {
      "cell_type": "markdown",
      "metadata": {
        "id": "view-in-github",
        "colab_type": "text"
      },
      "source": [
        "<a href=\"https://colab.research.google.com/github/HKasie/Advanced-Python/blob/main/lambda_functions.ipynb\" target=\"_parent\"><img src=\"https://colab.research.google.com/assets/colab-badge.svg\" alt=\"Open In Colab\"/></a>"
      ]
    },
    {
      "cell_type": "markdown",
      "metadata": {
        "id": "A5AZO6ooSynf"
      },
      "source": [
        "# Lambda Functions"
      ]
    },
    {
      "cell_type": "markdown",
      "metadata": {
        "id": "TMg3iJruSynh"
      },
      "source": [
        "## Learning Objectives\n",
        "- Learn Lambda functions in Python.\n",
        "- Learn the syntax of Lambda functions.\n",
        "- Understand sorted(), filter() and map() functions."
      ]
    },
    {
      "cell_type": "markdown",
      "metadata": {
        "id": "Z1yeJW9DSyni"
      },
      "source": [
        "## Lesson Materials"
      ]
    },
    {
      "cell_type": "markdown",
      "metadata": {
        "id": "3Ssg4KxFSyni"
      },
      "source": [
        "For this lesson, we will use a folder name `utils`. If you are in Colab and currently do not have this folder, run the following code to download the folder with the examples. Remember that you can access `.py` files in Colab and modify them."
      ]
    },
    {
      "cell_type": "code",
      "execution_count": null,
      "metadata": {
        "id": "yeETrvB8Syni",
        "outputId": "f204d009-cc85-4f0d-c3aa-0a963d638eea",
        "colab": {
          "base_uri": "https://localhost:8080/"
        }
      },
      "outputs": [
        {
          "output_type": "stream",
          "name": "stdout",
          "text": [
            "--2023-11-02 09:10:24--  https://aicore-files.s3.amazonaws.com/Foundations/Python_Programming/advanced_py.zip\n",
            "Resolving aicore-files.s3.amazonaws.com (aicore-files.s3.amazonaws.com)... 52.217.128.233, 52.217.122.41, 3.5.10.213, ...\n",
            "Connecting to aicore-files.s3.amazonaws.com (aicore-files.s3.amazonaws.com)|52.217.128.233|:443... connected.\n",
            "HTTP request sent, awaiting response... 200 OK\n",
            "Length: 1706 (1.7K) [application/zip]\n",
            "Saving to: ‘advanced_py.zip’\n",
            "\n",
            "\radvanced_py.zip       0%[                    ]       0  --.-KB/s               \radvanced_py.zip     100%[===================>]   1.67K  --.-KB/s    in 0s      \n",
            "\n",
            "2023-11-02 09:10:24 (26.7 MB/s) - ‘advanced_py.zip’ saved [1706/1706]\n",
            "\n"
          ]
        }
      ],
      "source": [
        "!wget \"https://aicore-files.s3.amazonaws.com/Foundations/Python_Programming/advanced_py.zip\"\n",
        "import zipfile\n",
        "with zipfile.ZipFile(\"advanced_py.zip\", 'r') as zip_ref:\n",
        "    zip_ref.extractall(\"utils\")"
      ]
    },
    {
      "cell_type": "markdown",
      "metadata": {
        "id": "IAVJ0Wh9Synk"
      },
      "source": [
        "## Introduction"
      ]
    },
    {
      "cell_type": "markdown",
      "metadata": {
        "id": "GUSAYKYoSynk"
      },
      "source": [
        "Lambda functions are short versions of normal functions. For example, below, we define a small function that accepts a number and returns its square."
      ]
    },
    {
      "cell_type": "code",
      "execution_count": null,
      "metadata": {
        "id": "fB91CPsGSynk",
        "outputId": "80641805-fa73-4206-c416-fa9a3a70189e"
      },
      "outputs": [
        {
          "name": "stdout",
          "output_type": "stream",
          "text": [
            "9\n"
          ]
        }
      ],
      "source": [
        "def func_square(y):\n",
        "    return y ** 2\n",
        "\n",
        "x = func_square(3)\n",
        "print(x)"
      ]
    },
    {
      "cell_type": "markdown",
      "metadata": {
        "id": "zsNovVc3Synk"
      },
      "source": [
        "This appears easy; however, since this function is small, it does not have to be defined in a separate part of the code. We can simply use a lambda function.\n",
        "\n",
        "> <font size=+1>Lambda functions are employed to define functions on a single line.</font>"
      ]
    },
    {
      "cell_type": "markdown",
      "metadata": {
        "id": "3G6ee-qTSynk"
      },
      "source": [
        "## Syntax\n",
        "The syntax is\n",
        "\n",
        "`lambda arguments: expression`\n",
        "\n",
        "Consider the below example using the same function we defined previously."
      ]
    },
    {
      "cell_type": "code",
      "execution_count": null,
      "metadata": {
        "id": "AnC9wkYTSynl",
        "outputId": "e6eb22d8-2695-4179-c089-f4a6d80870a3"
      },
      "outputs": [
        {
          "name": "stdout",
          "output_type": "stream",
          "text": [
            "9\n"
          ]
        }
      ],
      "source": [
        "func_lambda = lambda y: y ** 2\n",
        "\n",
        "x = func_lambda(3)\n",
        "print(x)"
      ]
    },
    {
      "cell_type": "markdown",
      "metadata": {
        "id": "tmCF1yxNSynl"
      },
      "source": [
        "## Arguments and Small Functions"
      ]
    },
    {
      "cell_type": "markdown",
      "metadata": {
        "id": "QY161m4ISynl"
      },
      "source": [
        "Lambda functions can also accept two or more arguments. For example, below, we define a function that accepts two numbers and returns their sum:"
      ]
    },
    {
      "cell_type": "code",
      "execution_count": null,
      "metadata": {
        "id": "-4gE6U5DSynl",
        "outputId": "7f2d1912-21cd-4eb3-a221-32108cd25db4"
      },
      "outputs": [
        {
          "data": {
            "text/plain": [
              "7"
            ]
          },
          "execution_count": 4,
          "metadata": {},
          "output_type": "execute_result"
        }
      ],
      "source": [
        "func_sum = lambda x, y: x + y\n",
        "\n",
        "func_sum(3, 4)"
      ]
    },
    {
      "cell_type": "markdown",
      "metadata": {
        "id": "LNVD4j6DSynm"
      },
      "source": [
        "Generally, Lambda functions can be passed as arguments in higher-order functions. Eventually, we will go through higher-order functions that accept lambda functions to perform small operations.\n",
        "\n",
        "Here, we introduce three small functions: sorted(), filter() and map()."
      ]
    },
    {
      "cell_type": "code",
      "execution_count": null,
      "metadata": {
        "id": "nN5ivStDSynm"
      },
      "outputs": [],
      "source": [
        "sorted([5, 2, 4, 2, 3])"
      ]
    },
    {
      "cell_type": "code",
      "execution_count": null,
      "metadata": {
        "id": "UFGjzqpTSynm"
      },
      "outputs": [],
      "source": [
        "got = [('Caitlyn', 'Tully'), ('Arya', 'Stark'), ('Bran', 'Stark'), ('Arya', 'Baratheon'), ('Jon', 'Snow'), ('Jon', 'Targaryen')]\n",
        "\n",
        "sorted(got) # Sort by the given name, and in case it is the same, sort by the last name."
      ]
    },
    {
      "cell_type": "markdown",
      "metadata": {
        "id": "b52DnufzSynm"
      },
      "source": [
        "To sort by last names, we perform the following:"
      ]
    },
    {
      "cell_type": "code",
      "execution_count": null,
      "metadata": {
        "id": "0j9z5TxKSynm"
      },
      "outputs": [],
      "source": [
        "for element in got:\n",
        "    print(element[1])"
      ]
    },
    {
      "cell_type": "code",
      "execution_count": null,
      "metadata": {
        "id": "04pULQXQSynm"
      },
      "outputs": [],
      "source": [
        "sorted(got, key=lambda x: x[1])"
      ]
    },
    {
      "cell_type": "markdown",
      "metadata": {
        "id": "VDi_tMd9Synm"
      },
      "source": [
        "To sort by last-name length, we perform the following:"
      ]
    },
    {
      "cell_type": "code",
      "execution_count": null,
      "metadata": {
        "id": "4-YEVUAASynn"
      },
      "outputs": [],
      "source": [
        "sorted(got, key=lambda element: len(element[1]))"
      ]
    },
    {
      "cell_type": "markdown",
      "metadata": {
        "id": "ukzc7oMASynn"
      },
      "source": [
        "Note that Lambda functions can also be used to apply a function to an iterable."
      ]
    },
    {
      "cell_type": "code",
      "execution_count": null,
      "metadata": {
        "id": "uBbeHcTQSynn"
      },
      "outputs": [],
      "source": [
        "ls_numbers = [1, 5, 10, 15, 20, 25, 42]\n",
        "ls_numbers * 2"
      ]
    },
    {
      "cell_type": "code",
      "execution_count": null,
      "metadata": {
        "id": "IiDi5y1iSynn"
      },
      "outputs": [],
      "source": [
        "ls_numbers = [1, 5, 10, 15, 20, 25, 42]\n",
        "# I want to multiply each element by 2\n",
        "ls_twice = [x * 2 for x in ls_numbers] # Comprehension list\n",
        "ls_doubled = map(lambda x: x * 2, ls_numbers)\n",
        "\n",
        "print(ls_twice)\n",
        "print(dir(ls_doubled))\n",
        "print(list(ls_doubled))"
      ]
    },
    {
      "cell_type": "markdown",
      "metadata": {
        "id": "VY-uGPndSynn"
      },
      "source": [
        "If a Lambda function has two arguments, it runs until there are no elements in either of the iterables."
      ]
    },
    {
      "cell_type": "code",
      "execution_count": null,
      "metadata": {
        "id": "QntqimBdSynn"
      },
      "outputs": [],
      "source": [
        "fun = lambda x, y: x ** y\n",
        "print(list(map(fun, [1, 3, 3, 4], [1, 3, 4])))\n",
        "print(list(map(fun, [1, 3, 3, 4], [1, 3, 4, 2])))\n",
        "print(list(map(fun, [1, 3], [1, 3, 4, 2])))"
      ]
    },
    {
      "cell_type": "markdown",
      "metadata": {
        "id": "RyE88D_tSynn"
      },
      "source": [
        "Elements in a list can also be filtered depending on a certain condition. The condition should return a Boolean."
      ]
    },
    {
      "cell_type": "code",
      "execution_count": null,
      "metadata": {
        "id": "d4T8mMD_Synn"
      },
      "outputs": [],
      "source": [
        "got = [('Drogon', 508), ('Jon', 103), ('Rhaegal', 273), ('Cersei', 199), ('Arya', 1278)]\n",
        "\n",
        "killers = filter(lambda x: x[1] > 200, got)\n",
        "print(killers)\n",
        "print(list(killers))"
      ]
    },
    {
      "cell_type": "code",
      "execution_count": null,
      "metadata": {
        "id": "IIh6MWrjSyno"
      },
      "outputs": [],
      "source": [
        "numbers = [1, 2, 3]\n",
        "list(filter(lambda x: (x + 1) * 3 / 3 % 3 == 0, numbers))"
      ]
    },
    {
      "cell_type": "markdown",
      "metadata": {
        "id": "wCNlHlpMSyno"
      },
      "source": [
        "## Conclusion\n",
        "\n",
        "In this lesson, we reviewed Lambda functions on the surface level. To improve your knowledge and understanding of Lambda functions, engage the practicals and participate in as many challenges as possible. For examples, see [here](https://github.com/IvanYingX/Challenges_AiCore.git)"
      ]
    }
  ],
  "metadata": {
    "interpreter": {
      "hash": "3d597f4c481aa0f25dceb95d2a0067e73c0966dcbd003d741d821a7208527ecf"
    },
    "kernelspec": {
      "display_name": "Python 3.9.1 64-bit ('base': conda)",
      "name": "python3"
    },
    "language_info": {
      "codemirror_mode": {
        "name": "ipython",
        "version": 3
      },
      "file_extension": ".py",
      "mimetype": "text/x-python",
      "name": "python",
      "nbconvert_exporter": "python",
      "pygments_lexer": "ipython3",
      "version": "3.8.11"
    },
    "colab": {
      "provenance": [],
      "include_colab_link": true
    }
  },
  "nbformat": 4,
  "nbformat_minor": 0
}