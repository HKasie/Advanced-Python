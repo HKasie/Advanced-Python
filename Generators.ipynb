{
  "cells": [
    {
      "cell_type": "markdown",
      "metadata": {
        "id": "view-in-github",
        "colab_type": "text"
      },
      "source": [
        "<a href=\"https://colab.research.google.com/github/HKasie/Advanced-Python/blob/main/Generators.ipynb\" target=\"_parent\"><img src=\"https://colab.research.google.com/assets/colab-badge.svg\" alt=\"Open In Colab\"/></a>"
      ]
    },
    {
      "cell_type": "markdown",
      "metadata": {
        "id": "gsHen3AjWH7d"
      },
      "source": [
        "# Generators"
      ]
    },
    {
      "cell_type": "markdown",
      "metadata": {
        "id": "IKMC2VyMWH7e"
      },
      "source": [
        "## Lesson Materials\n",
        "For this lesson, we will use a folder name `utils`. If you are in Colab and currently do not have this folder, run the following code to download the folder with the examples. Remember that you can access `.py` files in Colab and modify them."
      ]
    },
    {
      "cell_type": "code",
      "execution_count": null,
      "metadata": {
        "id": "tlYDxAkWWH7f"
      },
      "outputs": [],
      "source": [
        "!wget \"https://aicore-files.s3.amazonaws.com/Foundations/Python_Programming/advanced_py.zip\"\n",
        "import zipfile\n",
        "with zipfile.ZipFile(\"advanced_py.zip\", 'r') as zip_ref:\n",
        "    zip_ref.extractall(\"utils\")"
      ]
    },
    {
      "cell_type": "markdown",
      "metadata": {
        "id": "a_dqtn_nWH7g"
      },
      "source": [
        "## Introduction\n",
        "Generators are similar to lists; however, instead of providing information on every element in the list, they supply tiny slices of the whole list. This is beneficial for\n",
        "\n",
        "- saving memory.\n",
        "- representing infinite lists (without buffer overflow).\n",
        "- generating pipelines (Fibonacci or factorial)."
      ]
    },
    {
      "cell_type": "markdown",
      "metadata": {
        "id": "LRJEx4V-WH7g"
      },
      "source": [
        "## Creating Generators\n",
        "There are two approaches for creating generators:\n",
        "1. substituting return for yield in a function.\n",
        "2. using a comprehension.\n",
        "\n",
        "The difference between `return` and `yield` is that `yield` _pauses_ a function at a point and _resumes_ at that point the next time the function is called."
      ]
    },
    {
      "cell_type": "code",
      "execution_count": null,
      "metadata": {
        "id": "CxrNneUkWH7g"
      },
      "outputs": [],
      "source": [
        "def gen_test():\n",
        "    print('Starting the generator')\n",
        "    yield 1\n",
        "    print('Second time calling the generator')\n",
        "    yield 2\n",
        "    print('Third time calling the generator')\n",
        "    yield 3\n",
        "    print('Fourth time. After this, I will die if you call me again')\n",
        "    yield 4\n",
        "    print('Why do you hate me?')\n",
        "\n",
        "gen = gen_test()"
      ]
    },
    {
      "cell_type": "markdown",
      "metadata": {
        "id": "GB1ov80YWH7h"
      },
      "source": [
        "Python is dynamically typed; therefore, by observing that `yield` is a keyword, Python acknowledges it as a generator."
      ]
    },
    {
      "cell_type": "code",
      "execution_count": null,
      "metadata": {
        "id": "Cu4agUrvWH7h",
        "outputId": "c504b67d-f7e4-4d7d-e8d2-30b5d1de0961"
      },
      "outputs": [
        {
          "data": {
            "text/plain": [
              "generator"
            ]
          },
          "execution_count": 2,
          "metadata": {},
          "output_type": "execute_result"
        }
      ],
      "source": [
        "type(gen)"
      ]
    },
    {
      "cell_type": "markdown",
      "metadata": {
        "id": "YW9fnV2AWH7h"
      },
      "source": [
        "Consider the following, where a generator is called similar to a normal function."
      ]
    },
    {
      "cell_type": "code",
      "execution_count": null,
      "metadata": {
        "id": "Cjx3Bfw-WH7h",
        "outputId": "3c1d5859-119a-4640-b973-6d480924a9bc"
      },
      "outputs": [
        {
          "ename": "TypeError",
          "evalue": "'generator' object is not callable",
          "output_type": "error",
          "traceback": [
            "\u001b[1;31m---------------------------------------------------------------------------\u001b[0m",
            "\u001b[1;31mTypeError\u001b[0m                                 Traceback (most recent call last)",
            "\u001b[1;32mc:\\Users\\admin\\Desktop\\ai-core\\Essentials\\2. Python programming\\11. Advanced Python\\1. Generators\\Notebook.ipynb Cell 11'\u001b[0m in \u001b[0;36m<module>\u001b[1;34m\u001b[0m\n\u001b[1;32m----> <a href='vscode-notebook-cell:/c%3A/Users/admin/Desktop/ai-core/Essentials/2.%20Python%20programming/11.%20Advanced%20Python/1.%20Generators/Notebook.ipynb#ch0000012?line=0'>1</a>\u001b[0m gen()\n",
            "\u001b[1;31mTypeError\u001b[0m: 'generator' object is not callable"
          ]
        }
      ],
      "source": [
        "gen()"
      ]
    },
    {
      "cell_type": "markdown",
      "metadata": {
        "id": "I0vJWR6WWH7i"
      },
      "source": [
        "The result is an error.\n",
        "\n",
        "The appropriate function for initialising a generator is `next`."
      ]
    },
    {
      "cell_type": "code",
      "execution_count": null,
      "metadata": {
        "id": "Y9dXybjzWH7i",
        "outputId": "556c7ce5-ac00-4172-9d89-f105e6a6a0ab"
      },
      "outputs": [
        {
          "name": "stdout",
          "output_type": "stream",
          "text": [
            "Starting the generator\n"
          ]
        },
        {
          "data": {
            "text/plain": [
              "1"
            ]
          },
          "execution_count": 4,
          "metadata": {},
          "output_type": "execute_result"
        }
      ],
      "source": [
        "next(gen)"
      ]
    },
    {
      "cell_type": "markdown",
      "metadata": {
        "id": "15Py1gbgWH7j"
      },
      "source": [
        "If we call it once more, we receive a different output:"
      ]
    },
    {
      "cell_type": "code",
      "execution_count": null,
      "metadata": {
        "id": "_ndzfYLUWH7j",
        "outputId": "c96e8cdb-c911-4839-dce9-4a55841b8071"
      },
      "outputs": [
        {
          "name": "stdout",
          "output_type": "stream",
          "text": [
            "Second time calling the generator\n"
          ]
        },
        {
          "data": {
            "text/plain": [
              "2"
            ]
          },
          "execution_count": 5,
          "metadata": {},
          "output_type": "execute_result"
        }
      ],
      "source": [
        "next(gen)"
      ]
    },
    {
      "cell_type": "markdown",
      "metadata": {
        "id": "lPpw6fwrWH7j"
      },
      "source": [
        "If `next` is called repeatedly, the following occurs:"
      ]
    },
    {
      "cell_type": "code",
      "execution_count": null,
      "metadata": {
        "id": "gFRMC3WBWH7k",
        "outputId": "e2b21b24-4a29-47e0-92a2-077c7ca9208b"
      },
      "outputs": [
        {
          "name": "stdout",
          "output_type": "stream",
          "text": [
            "Third time calling the generator\n"
          ]
        },
        {
          "data": {
            "text/plain": [
              "3"
            ]
          },
          "execution_count": 7,
          "metadata": {},
          "output_type": "execute_result"
        }
      ],
      "source": [
        "next(gen)"
      ]
    },
    {
      "cell_type": "code",
      "execution_count": null,
      "metadata": {
        "id": "dtMJe7NVWH7k",
        "outputId": "bb9f2b03-e41f-4fe3-971c-b8179bb8bb5c"
      },
      "outputs": [
        {
          "name": "stdout",
          "output_type": "stream",
          "text": [
            "Fourth time. After this, I will die if you call me again\n"
          ]
        },
        {
          "data": {
            "text/plain": [
              "4"
            ]
          },
          "execution_count": 8,
          "metadata": {},
          "output_type": "execute_result"
        }
      ],
      "source": [
        "next(gen)"
      ]
    },
    {
      "cell_type": "markdown",
      "metadata": {
        "id": "_1eeK-xHWH7k"
      },
      "source": [
        "There appear to be no more `yield` statements. If `next` is called once more at this point, we receive the following output:"
      ]
    },
    {
      "cell_type": "code",
      "execution_count": null,
      "metadata": {
        "id": "JxDMUhH4WH7k",
        "outputId": "219a79e3-7804-4d82-f061-64b01fc3b7e2"
      },
      "outputs": [
        {
          "name": "stdout",
          "output_type": "stream",
          "text": [
            "Why do you hate me?\n"
          ]
        },
        {
          "ename": "StopIteration",
          "evalue": "",
          "output_type": "error",
          "traceback": [
            "\u001b[1;31m---------------------------------------------------------------------------\u001b[0m",
            "\u001b[1;31mStopIteration\u001b[0m                             Traceback (most recent call last)",
            "\u001b[1;32mc:\\Users\\admin\\Desktop\\ai-core\\Essentials\\2. Python programming\\11. Advanced Python\\1. Generators\\Notebook.ipynb Cell 21'\u001b[0m in \u001b[0;36m<module>\u001b[1;34m\u001b[0m\n\u001b[1;32m----> <a href='vscode-notebook-cell:/c%3A/Users/admin/Desktop/ai-core/Essentials/2.%20Python%20programming/11.%20Advanced%20Python/1.%20Generators/Notebook.ipynb#ch0000025?line=0'>1</a>\u001b[0m \u001b[39mnext\u001b[39;49m(gen)\n",
            "\u001b[1;31mStopIteration\u001b[0m: "
          ]
        }
      ],
      "source": [
        "next(gen)"
      ]
    },
    {
      "cell_type": "markdown",
      "metadata": {
        "id": "jEVLuP37WH7l"
      },
      "source": [
        "As can be observed, the iteration has been halted."
      ]
    },
    {
      "cell_type": "markdown",
      "metadata": {
        "id": "hN5tq1n2WH7l"
      },
      "source": [
        "## Generators in Loops"
      ]
    },
    {
      "cell_type": "markdown",
      "metadata": {
        "id": "2pl7_0wZWH7l"
      },
      "source": [
        "Conventionally, generators are used in loops. A `For` loop halts when there are no more elements (or `yield` statements) to iterate through."
      ]
    },
    {
      "cell_type": "code",
      "execution_count": null,
      "metadata": {
        "id": "1jhf0sTgWH7l"
      },
      "outputs": [],
      "source": [
        "def gen_test():\n",
        "    print('Starting the generator')\n",
        "    yield 1\n",
        "    print('Second time calling the generator')\n",
        "    yield 2\n",
        "    print('Third time calling the generator')\n",
        "    yield 3\n",
        "    print('Fourth time. After this, I will die if you call me again')\n",
        "    yield 4\n",
        "    print('Why do you hate me?')\n",
        "\n",
        "gen = gen_test()"
      ]
    },
    {
      "cell_type": "markdown",
      "metadata": {
        "id": "BIUhwkTaWH7l"
      },
      "source": [
        "Here, we employ gen as an iterable in a `For` loop:"
      ]
    },
    {
      "cell_type": "code",
      "execution_count": null,
      "metadata": {
        "id": "tDHsuwpRWH7l",
        "outputId": "a561956b-6f0e-4f20-f99a-47b7c43d2dac"
      },
      "outputs": [
        {
          "name": "stdout",
          "output_type": "stream",
          "text": [
            "Starting the generator\n",
            "1\n",
            "Second time calling the generator\n",
            "2\n",
            "Third time calling the generator\n",
            "3\n",
            "Fourth time. After this, I will die if you call me again\n",
            "4\n",
            "Why do you hate me?\n"
          ]
        }
      ],
      "source": [
        "for i in gen:\n",
        "    print(i)"
      ]
    },
    {
      "cell_type": "markdown",
      "metadata": {
        "id": "irLwZHLaWH7m"
      },
      "source": [
        "As shown above, all the items inside the generator were printed out successfully."
      ]
    },
    {
      "cell_type": "markdown",
      "metadata": {
        "id": "3FqexXyTWH7m"
      },
      "source": [
        "With this in mind, it is possible to create infinite generators without expending infinite memory resources."
      ]
    },
    {
      "cell_type": "code",
      "execution_count": null,
      "metadata": {
        "id": "Zei3Us6GWH7m"
      },
      "outputs": [],
      "source": [
        "def inf_gen():\n",
        "    i = 0\n",
        "    while True:\n",
        "        yield i\n",
        "        i += 1\n",
        "\n",
        "gen = inf_gen()"
      ]
    },
    {
      "cell_type": "markdown",
      "metadata": {
        "id": "cDH1vrdcWH7m"
      },
      "source": [
        "Observe that this generator has an infinite loop inside, and it will hit the `yield` statement every time it loops."
      ]
    },
    {
      "cell_type": "code",
      "execution_count": null,
      "metadata": {
        "id": "q7Qk8ypZWH7m",
        "outputId": "68cee022-5a25-40e7-a4de-30d2270b9e3e"
      },
      "outputs": [
        {
          "data": {
            "text/plain": [
              "3"
            ]
          },
          "execution_count": 17,
          "metadata": {},
          "output_type": "execute_result"
        }
      ],
      "source": [
        "next(gen)"
      ]
    },
    {
      "cell_type": "markdown",
      "metadata": {
        "id": "tm3byn7rWH7m"
      },
      "source": [
        "It is a generator that returns the numbers from 0 to infinity.\n",
        "\n",
        "Please exercise caution! If used in a `For` loop, it will never stop!"
      ]
    },
    {
      "cell_type": "code",
      "execution_count": null,
      "metadata": {
        "id": "ABiKh--IWH7n"
      },
      "outputs": [],
      "source": [
        "# Press Ctrl + C or the stop button to stop me!\n",
        "for i in inf_gen():\n",
        "    print(i, end=' ')"
      ]
    },
    {
      "cell_type": "markdown",
      "metadata": {
        "id": "ZZnhbPkKWH7n"
      },
      "source": [
        "Using this principle, it is possible to create an infinite fibonacci generator, the role of which is left to the programmer."
      ]
    },
    {
      "cell_type": "code",
      "execution_count": null,
      "metadata": {
        "id": "vfN1mvfxWH7n"
      },
      "outputs": [],
      "source": [
        "# Function with yield statement:\n",
        "def gen_fib():\n",
        "    n_0 = 0\n",
        "    n_1 = 1\n",
        "    while True:\n",
        "        n_2 = n_0 + n_1\n",
        "        yield n_2\n",
        "        print('I am coming back')\n",
        "        n_0 = n_1\n",
        "        n_1 = n_2\n",
        "\n",
        "fib = gen_fib()\n"
      ]
    },
    {
      "cell_type": "code",
      "execution_count": null,
      "metadata": {
        "id": "Br4Ncl3XWH7n",
        "outputId": "9aeb145b-d7d4-4f55-8a87-f7bad09fbbb8"
      },
      "outputs": [
        {
          "name": "stdout",
          "output_type": "stream",
          "text": [
            "1\n",
            "I am coming back\n",
            "2\n",
            "I am coming back\n",
            "3\n",
            "I am coming back\n",
            "5\n",
            "I am coming back\n",
            "8\n",
            "I am coming back\n",
            "13\n",
            "I am coming back\n",
            "21\n",
            "I am coming back\n",
            "34\n",
            "I am coming back\n",
            "55\n",
            "I am coming back\n",
            "89\n"
          ]
        }
      ],
      "source": [
        "for _ in range(10):\n",
        "    print(next(fib))"
      ]
    },
    {
      "cell_type": "markdown",
      "metadata": {
        "id": "9ubWWvBGWH7o"
      },
      "source": [
        "## Generator Comprehensions"
      ]
    },
    {
      "cell_type": "markdown",
      "metadata": {
        "id": "ZeCceVodWH7o"
      },
      "source": [
        "A function definion is not required to create a generator. A comprehension statement can be employed to wrap it in parentheses."
      ]
    },
    {
      "cell_type": "code",
      "execution_count": null,
      "metadata": {
        "id": "Qa3wRiqaWH7o"
      },
      "outputs": [],
      "source": [
        "ls_double = [x * 2 for x in range(10)]\n",
        "ls_gen = (x * 2 for x in range(10))"
      ]
    },
    {
      "cell_type": "code",
      "execution_count": null,
      "metadata": {
        "id": "Nll7l6orWH7o",
        "outputId": "42904fe3-489e-4014-e175-87a851a73291"
      },
      "outputs": [
        {
          "name": "stdout",
          "output_type": "stream",
          "text": [
            "[0, 2, 4, 6, 8, 10, 12, 14, 16, 18]\n",
            "<generator object <genexpr> at 0x00000236245EEE30>\n"
          ]
        }
      ],
      "source": [
        "print(ls_double)\n",
        "print(ls_gen)\n",
        "# print(next(ls_gen))\n",
        "# print(next(ls_gen))\n",
        "# print(next(ls_gen))"
      ]
    },
    {
      "cell_type": "markdown",
      "metadata": {
        "id": "psYdZR65WH7p"
      },
      "source": [
        "However, similar to normal generators, if exhausted, Python will throw an error on the next attempt to retrieve data."
      ]
    },
    {
      "cell_type": "code",
      "execution_count": null,
      "metadata": {
        "id": "TxG48g5YWH7p",
        "outputId": "4c6c4c93-ebb9-4643-b54d-22241c204538"
      },
      "outputs": [
        {
          "data": {
            "text/plain": [
              "0"
            ]
          },
          "execution_count": 23,
          "metadata": {},
          "output_type": "execute_result"
        }
      ],
      "source": [
        "next(ls_gen)"
      ]
    },
    {
      "cell_type": "code",
      "execution_count": null,
      "metadata": {
        "id": "CzP_HVrxWH7p",
        "outputId": "851df569-bd77-419e-b243-eac5836ae861"
      },
      "outputs": [
        {
          "name": "stdout",
          "output_type": "stream",
          "text": [
            "2\n",
            "4\n",
            "6\n",
            "8\n",
            "10\n",
            "12\n",
            "14\n",
            "16\n",
            "18\n"
          ]
        }
      ],
      "source": [
        "for i in ls_gen:\n",
        "    print(i)"
      ]
    },
    {
      "cell_type": "markdown",
      "metadata": {
        "id": "7wjGBaS9WH7p"
      },
      "source": [
        "## Conclusion\n",
        "In this lesson, we reviewed generators in Python on the surface level. To improve your knowledge and understanding of generators, engage in practicals and participate in as many challenges as possible. For examples, check [here](https://github.com/IvanYingX/Challenges_AiCore.git)"
      ]
    }
  ],
  "metadata": {
    "interpreter": {
      "hash": "beedbe2faf2f7048d727558d0bc3221e7eba2a0b921cac4d4771b2feb8f74b30"
    },
    "kernelspec": {
      "display_name": "Python 3.10.2 64-bit",
      "language": "python",
      "name": "python3"
    },
    "language_info": {
      "codemirror_mode": {
        "name": "ipython",
        "version": 3
      },
      "file_extension": ".py",
      "mimetype": "text/x-python",
      "name": "python",
      "nbconvert_exporter": "python",
      "pygments_lexer": "ipython3",
      "version": "3.10.2"
    },
    "colab": {
      "provenance": [],
      "include_colab_link": true
    }
  },
  "nbformat": 4,
  "nbformat_minor": 0
}